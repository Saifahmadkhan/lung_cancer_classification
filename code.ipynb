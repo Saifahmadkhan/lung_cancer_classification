{
  "nbformat": 4,
  "nbformat_minor": 0,
  "metadata": {
    "colab": {
      "name": "bdmh_project.ipynb",
      "provenance": [],
      "collapsed_sections": []
    },
    "kernelspec": {
      "name": "python3",
      "display_name": "Python 3"
    }
  },
  "cells": [
    {
      "cell_type": "code",
      "metadata": {
        "id": "sF4gDZcm0pHi",
        "colab_type": "code",
        "colab": {}
      },
      "source": [
        "import numpy as np\n",
        "import pandas as pd  \n",
        "from sklearn.feature_selection import SelectFdr,f_classif,SelectKBest,chi2\n",
        "from sklearn.svm import SVC\n",
        "from sklearn.model_selection import cross_val_score\n",
        "from sklearn.model_selection import train_test_split\n",
        "from sklearn.metrics import accuracy_score\n",
        "from sklearn.metrics import f1_score\n",
        "from sklearn.metrics.pairwise import cosine_similarity\n",
        "from sklearn.metrics import classification_report\n",
        "from sklearn.decomposition import PCA\n",
        "from sklearn.naive_bayes import GaussianNB\n",
        "from sklearn.model_selection import StratifiedKFold\n",
        "import random\n",
        "import sklearn as sklea\n",
        "from sklearn.metrics import confusion_matrix\n",
        "import matplotlib.pyplot as plt\n",
        "import seaborn as sns\n",
        "import pickle\n",
        "import tensorflow as tf\n",
        "from keras.models import Sequential\n",
        "from keras.layers import Dense\n",
        "from sklearn.metrics import roc_auc_score\n",
        "from keras.optimizers import Adam\n",
        "from keras.layers import Flatten\n",
        "from keras.layers import CuDNNLSTM, Dense, Dropout,LSTM\n",
        "from sklearn.metrics import accuracy_score\n",
        "from sklearn.neighbors import KNeighborsClassifier \n",
        "import statistics \n",
        "from statistics import mode \n",
        "from keras.models import load_model\n",
        "from sklearn.linear_model import LogisticRegression\n",
        "from sklearn import tree\n",
        "from sklearn.naive_bayes import MultinomialNB"
      ],
      "execution_count": 0,
      "outputs": []
    },
    {
      "cell_type": "markdown",
      "metadata": {
        "id": "g0F0qhbeoaKd",
        "colab_type": "text"
      },
      "source": [
        "**DATASET 1 values are read using pandas**"
      ]
    },
    {
      "cell_type": "code",
      "metadata": {
        "id": "sdZn9OD71j4Y",
        "colab_type": "code",
        "outputId": "ee6f943e-e3b2-43b1-f6d1-611e161010eb",
        "colab": {
          "base_uri": "https://localhost:8080/",
          "height": 266
        }
      },
      "source": [
        "read_data=pd.read_csv(\"Copy of cancer patient data sets.csv\")\n",
        "lll=[]\n",
        "for l in read_data['Level']:\n",
        "    if l=='Low':\n",
        "        lll.append(1)\n",
        "    elif l=='Medium':\n",
        "        lll.append(2)\n",
        "    else:\n",
        "        lll.append(3)\n",
        "cread_data=read_data.copy()\n",
        "cread_data['Level']=lll\n",
        "read_data.head()"
      ],
      "execution_count": 126,
      "outputs": [
        {
          "output_type": "execute_result",
          "data": {
            "text/html": [
              "<div>\n",
              "<style scoped>\n",
              "    .dataframe tbody tr th:only-of-type {\n",
              "        vertical-align: middle;\n",
              "    }\n",
              "\n",
              "    .dataframe tbody tr th {\n",
              "        vertical-align: top;\n",
              "    }\n",
              "\n",
              "    .dataframe thead th {\n",
              "        text-align: right;\n",
              "    }\n",
              "</style>\n",
              "<table border=\"1\" class=\"dataframe\">\n",
              "  <thead>\n",
              "    <tr style=\"text-align: right;\">\n",
              "      <th></th>\n",
              "      <th>Patient Id</th>\n",
              "      <th>Age</th>\n",
              "      <th>Gender</th>\n",
              "      <th>Air Pollution</th>\n",
              "      <th>Alcohol use</th>\n",
              "      <th>Dust Allergy</th>\n",
              "      <th>OccuPational Hazards</th>\n",
              "      <th>Genetic Risk</th>\n",
              "      <th>chronic Lung Disease</th>\n",
              "      <th>Balanced Diet</th>\n",
              "      <th>Obesity</th>\n",
              "      <th>Smoking</th>\n",
              "      <th>Passive Smoker</th>\n",
              "      <th>Chest Pain</th>\n",
              "      <th>Coughing of Blood</th>\n",
              "      <th>Fatigue</th>\n",
              "      <th>Weight Loss</th>\n",
              "      <th>Shortness of Breath</th>\n",
              "      <th>Wheezing</th>\n",
              "      <th>Swallowing Difficulty</th>\n",
              "      <th>Clubbing of Finger Nails</th>\n",
              "      <th>Frequent Cold</th>\n",
              "      <th>Dry Cough</th>\n",
              "      <th>Snoring</th>\n",
              "      <th>Level</th>\n",
              "    </tr>\n",
              "  </thead>\n",
              "  <tbody>\n",
              "    <tr>\n",
              "      <th>0</th>\n",
              "      <td>P1</td>\n",
              "      <td>33</td>\n",
              "      <td>1</td>\n",
              "      <td>2</td>\n",
              "      <td>4</td>\n",
              "      <td>5</td>\n",
              "      <td>4</td>\n",
              "      <td>3</td>\n",
              "      <td>2</td>\n",
              "      <td>2</td>\n",
              "      <td>4</td>\n",
              "      <td>3</td>\n",
              "      <td>2</td>\n",
              "      <td>2</td>\n",
              "      <td>4</td>\n",
              "      <td>3</td>\n",
              "      <td>4</td>\n",
              "      <td>2</td>\n",
              "      <td>2</td>\n",
              "      <td>3</td>\n",
              "      <td>1</td>\n",
              "      <td>2</td>\n",
              "      <td>3</td>\n",
              "      <td>4</td>\n",
              "      <td>Low</td>\n",
              "    </tr>\n",
              "    <tr>\n",
              "      <th>1</th>\n",
              "      <td>P10</td>\n",
              "      <td>17</td>\n",
              "      <td>1</td>\n",
              "      <td>3</td>\n",
              "      <td>1</td>\n",
              "      <td>5</td>\n",
              "      <td>3</td>\n",
              "      <td>4</td>\n",
              "      <td>2</td>\n",
              "      <td>2</td>\n",
              "      <td>2</td>\n",
              "      <td>2</td>\n",
              "      <td>4</td>\n",
              "      <td>2</td>\n",
              "      <td>3</td>\n",
              "      <td>1</td>\n",
              "      <td>3</td>\n",
              "      <td>7</td>\n",
              "      <td>8</td>\n",
              "      <td>6</td>\n",
              "      <td>2</td>\n",
              "      <td>1</td>\n",
              "      <td>7</td>\n",
              "      <td>2</td>\n",
              "      <td>Medium</td>\n",
              "    </tr>\n",
              "    <tr>\n",
              "      <th>2</th>\n",
              "      <td>P100</td>\n",
              "      <td>35</td>\n",
              "      <td>1</td>\n",
              "      <td>4</td>\n",
              "      <td>5</td>\n",
              "      <td>6</td>\n",
              "      <td>5</td>\n",
              "      <td>5</td>\n",
              "      <td>4</td>\n",
              "      <td>6</td>\n",
              "      <td>7</td>\n",
              "      <td>2</td>\n",
              "      <td>3</td>\n",
              "      <td>4</td>\n",
              "      <td>8</td>\n",
              "      <td>8</td>\n",
              "      <td>7</td>\n",
              "      <td>9</td>\n",
              "      <td>2</td>\n",
              "      <td>1</td>\n",
              "      <td>4</td>\n",
              "      <td>6</td>\n",
              "      <td>7</td>\n",
              "      <td>2</td>\n",
              "      <td>High</td>\n",
              "    </tr>\n",
              "    <tr>\n",
              "      <th>3</th>\n",
              "      <td>P1000</td>\n",
              "      <td>37</td>\n",
              "      <td>1</td>\n",
              "      <td>7</td>\n",
              "      <td>7</td>\n",
              "      <td>7</td>\n",
              "      <td>7</td>\n",
              "      <td>6</td>\n",
              "      <td>7</td>\n",
              "      <td>7</td>\n",
              "      <td>7</td>\n",
              "      <td>7</td>\n",
              "      <td>7</td>\n",
              "      <td>7</td>\n",
              "      <td>8</td>\n",
              "      <td>4</td>\n",
              "      <td>2</td>\n",
              "      <td>3</td>\n",
              "      <td>1</td>\n",
              "      <td>4</td>\n",
              "      <td>5</td>\n",
              "      <td>6</td>\n",
              "      <td>7</td>\n",
              "      <td>5</td>\n",
              "      <td>High</td>\n",
              "    </tr>\n",
              "    <tr>\n",
              "      <th>4</th>\n",
              "      <td>P101</td>\n",
              "      <td>46</td>\n",
              "      <td>1</td>\n",
              "      <td>6</td>\n",
              "      <td>8</td>\n",
              "      <td>7</td>\n",
              "      <td>7</td>\n",
              "      <td>7</td>\n",
              "      <td>6</td>\n",
              "      <td>7</td>\n",
              "      <td>7</td>\n",
              "      <td>8</td>\n",
              "      <td>7</td>\n",
              "      <td>7</td>\n",
              "      <td>9</td>\n",
              "      <td>3</td>\n",
              "      <td>2</td>\n",
              "      <td>4</td>\n",
              "      <td>1</td>\n",
              "      <td>4</td>\n",
              "      <td>2</td>\n",
              "      <td>4</td>\n",
              "      <td>2</td>\n",
              "      <td>3</td>\n",
              "      <td>High</td>\n",
              "    </tr>\n",
              "  </tbody>\n",
              "</table>\n",
              "</div>"
            ],
            "text/plain": [
              "  Patient Id  Age  Gender  ...  Dry Cough  Snoring   Level\n",
              "0         P1   33       1  ...          3        4     Low\n",
              "1        P10   17       1  ...          7        2  Medium\n",
              "2       P100   35       1  ...          7        2    High\n",
              "3      P1000   37       1  ...          7        5    High\n",
              "4       P101   46       1  ...          2        3    High\n",
              "\n",
              "[5 rows x 25 columns]"
            ]
          },
          "metadata": {
            "tags": []
          },
          "execution_count": 126
        }
      ]
    },
    {
      "cell_type": "markdown",
      "metadata": {
        "id": "_4_Pwn7gywne",
        "colab_type": "text"
      },
      "source": [
        "**CORRELATION between different features and target variable 'Level' from datset 1**"
      ]
    },
    {
      "cell_type": "code",
      "metadata": {
        "id": "LgWzdi8ZLjP6",
        "colab_type": "code",
        "outputId": "edb93da9-6a3c-4228-c94b-eebf04c3d1d1",
        "colab": {
          "base_uri": "https://localhost:8080/",
          "height": 420
        }
      },
      "source": [
        "corr=cread_data.corr()\n",
        "corr=corr['Level'][:len(corr['Level'])-1]\n",
        "corr"
      ],
      "execution_count": 127,
      "outputs": [
        {
          "output_type": "execute_result",
          "data": {
            "text/plain": [
              "Age                         0.060048\n",
              "Gender                     -0.164985\n",
              "Air Pollution               0.636038\n",
              "Alcohol use                 0.718710\n",
              "Dust Allergy                0.713839\n",
              "OccuPational Hazards        0.673255\n",
              "Genetic Risk                0.701303\n",
              "chronic Lung Disease        0.609971\n",
              "Balanced Diet               0.706273\n",
              "Obesity                     0.827435\n",
              "Smoking                     0.519530\n",
              "Passive Smoker              0.703594\n",
              "Chest Pain                  0.645461\n",
              "Coughing of Blood           0.782092\n",
              "Fatigue                     0.625114\n",
              "Weight Loss                 0.352738\n",
              "Shortness of Breath         0.497024\n",
              "Wheezing                    0.242794\n",
              "Swallowing Difficulty       0.249142\n",
              "Clubbing of Finger Nails    0.280063\n",
              "Frequent Cold               0.444017\n",
              "Dry Cough                   0.373968\n",
              "Snoring                     0.289366\n",
              "Name: Level, dtype: float64"
            ]
          },
          "metadata": {
            "tags": []
          },
          "execution_count": 127
        }
      ]
    },
    {
      "cell_type": "markdown",
      "metadata": {
        "id": "QLmmlYVTc69j",
        "colab_type": "text"
      },
      "source": [
        "Stratified K - fold splitting"
      ]
    },
    {
      "cell_type": "code",
      "metadata": {
        "id": "Qbg2POuVc6Wf",
        "colab_type": "code",
        "colab": {}
      },
      "source": [
        "# from sklearn.model_selection import StratifiedKFold\n",
        "# skf = StratifiedKFold(n_splits=5)\n",
        "# for train_index, test_index in skf.split(X, Y):\n",
        "#     X_train, X_test = X[train_index], X[test_index]\n",
        "#     y_train, y_test = Y[train_index], Y[test_index]"
      ],
      "execution_count": 0,
      "outputs": []
    },
    {
      "cell_type": "code",
      "metadata": {
        "id": "MCBswigNqX5I",
        "colab_type": "code",
        "outputId": "21755716-000b-4e30-c5d1-426ad158203e",
        "colab": {
          "base_uri": "https://localhost:8080/",
          "height": 34
        }
      },
      "source": [
        "first=read_data['Gender'][read_data['Level']=='High']\n",
        "second=read_data['Gender'][read_data['Level']=='Medium']\n",
        "third=read_data['Gender'][read_data['Level']=='Low']\n",
        "third.tolist().count(2) "
      ],
      "execution_count": 129,
      "outputs": [
        {
          "output_type": "execute_result",
          "data": {
            "text/plain": [
              "154"
            ]
          },
          "metadata": {
            "tags": []
          },
          "execution_count": 129
        }
      ]
    },
    {
      "cell_type": "markdown",
      "metadata": {
        "id": "0qaZ0UxIwfot",
        "colab_type": "text"
      },
      "source": [
        "DISTRIBUTION OF POINTS IN 2-D"
      ]
    },
    {
      "cell_type": "code",
      "metadata": {
        "id": "E8KOZWlw1oIa",
        "colab_type": "code",
        "colab": {
          "base_uri": "https://localhost:8080/",
          "height": 463
        },
        "outputId": "306c9a6d-512a-4187-9eaa-ea2137dd07e5"
      },
      "source": [
        "first=read_data['Alcohol use'][read_data['Level']=='High']\n",
        "fir=read_data['Dry Cough'][read_data['Level']=='High']\n",
        "second=read_data['Alcohol use'][read_data['Level']=='Medium']\n",
        "sec=read_data['Dry Cough'][read_data['Level']=='Medium']\n",
        "third=read_data['Alcohol use'][read_data['Level']=='Low']\n",
        "thi=read_data['Dry Cough'][read_data['Level']=='Low']\n",
        "print (len(set(first)),len(set(second)),len(set(third)))\n",
        "plt.figure(figsize=(25,10))\n",
        "plt.scatter(first,fir)\n",
        "plt.scatter(second,sec)\n",
        "plt.scatter(third,thi)\n",
        "plt.show()"
      ],
      "execution_count": 130,
      "outputs": [
        {
          "output_type": "stream",
          "text": [
            "5 7 5\n"
          ],
          "name": "stdout"
        },
        {
          "output_type": "display_data",
          "data": {
            "image/png": "[encoded data removed]",
            "text/plain": [
              "<Figure size 1800x720 with 1 Axes>"
            ]
          },
          "metadata": {
            "tags": []
          }
        }
      ]
    },
    {
      "cell_type": "markdown",
      "metadata": {
        "id": "U9lhs_sFy6-h",
        "colab_type": "text"
      },
      "source": [
        "This function calculates accuracy by taking true and predicted labels as argument"
      ]
    },
    {
      "cell_type": "code",
      "metadata": {
        "id": "dFHFoubv_dsb",
        "colab_type": "code",
        "colab": {}
      },
      "source": [
        "def accuracy_score_calculation(y_true,y_pred):\n",
        "  return accuracy_score(y_true, y_pred)\n"
      ],
      "execution_count": 0,
      "outputs": []
    },
    {
      "cell_type": "markdown",
      "metadata": {
        "id": "l5gWobBzzCjq",
        "colab_type": "text"
      },
      "source": [
        "This function creates confusion matrix for datset 1"
      ]
    },
    {
      "cell_type": "code",
      "metadata": {
        "id": "TTyNTBZvlfa7",
        "colab_type": "code",
        "colab": {}
      },
      "source": [
        "def confusion_matrix_creation(test_y,pred_y,plot_name):\n",
        "  a=list(test_y)\n",
        "  b=list(pred_y)\n",
        "  t=confusion_matrix(a,b)\n",
        "  df_cm = pd.DataFrame(t,(\"Low\",\"Medium\",\"High\"), (\"Low\",\"Medium\",\"High\"))\n",
        "  # plt.figure(figsize=(10,7))\n",
        "  sns.set(font_scale=1) # for label size\n",
        "  sns.heatmap(df_cm, annot=True, annot_kws={\"size\": 10}) # font size\n",
        "  plt.title(plot_name)\n",
        "  plt.ylabel('True label')\n",
        "  plt.xlabel('Predicted label')\n",
        "  return plt"
      ],
      "execution_count": 0,
      "outputs": []
    },
    {
      "cell_type": "markdown",
      "metadata": {
        "id": "HZTtzY8hy_rv",
        "colab_type": "text"
      },
      "source": [
        "**Dataset Spliting on class basis to maintain uniformity**"
      ]
    },
    {
      "cell_type": "code",
      "metadata": {
        "id": "LUwFQukWzIFR",
        "colab_type": "code",
        "colab": {}
      },
      "source": [
        "\n",
        "Low_data=read_data.loc[read_data['Level'] == 'Low', 'Age':'Snoring']\n",
        "low_data=np.array(Low_data)\n",
        "low_data_label=[]\n",
        "medium_data_label=[]\n",
        "high_data_label=[]\n",
        "\n",
        "Medium_data=read_data.loc[read_data['Level'] == 'Medium', 'Age':'Snoring']\n",
        "medium_data=np.array(Medium_data)\n",
        "High_data=read_data.loc[read_data['Level'] == 'High', 'Age':'Snoring']\n",
        "high_data=np.array(High_data)\n",
        "\n",
        "for i in low_data:\n",
        "  low_data_label.append(0)\n",
        "for i in medium_data:\n",
        "  medium_data_label.append(1)\n",
        "for i in high_data:\n",
        "  high_data_label.append(2)\n"
      ],
      "execution_count": 0,
      "outputs": []
    },
    {
      "cell_type": "code",
      "metadata": {
        "id": "d2QHLsKA7Ohf",
        "colab_type": "code",
        "colab": {}
      },
      "source": [
        "lowtrainx, lowtestx,lowtrainy, lowtesty = train_test_split(low_data,low_data_label, test_size = 0.4, random_state = 0)\n",
        "mediumtrainx, mediumtestx, mediumtrainy,mediumtesty = train_test_split(medium_data,medium_data_label, test_size = 0.4, random_state = 0)\n",
        "hightrainx,hightestx,hightrainy, hightesty = train_test_split(high_data, high_data_label, test_size = 0.4, random_state = 0)"
      ],
      "execution_count": 0,
      "outputs": []
    },
    {
      "cell_type": "code",
      "metadata": {
        "id": "eWIQoWpE9yUi",
        "colab_type": "code",
        "outputId": "d61df89d-a419-4019-bb10-8eaebc07d6c1",
        "colab": {
          "base_uri": "https://localhost:8080/",
          "height": 118
        }
      },
      "source": [
        "print(lowtrainx.shape)\n",
        "print(lowtestx.shape)\n",
        "print(mediumtrainx.shape)\n",
        "print(mediumtestx.shape)\n",
        "print(hightrainx.shape)\n",
        "print(hightestx.shape)"
      ],
      "execution_count": 135,
      "outputs": [
        {
          "output_type": "stream",
          "text": [
            "(181, 23)\n",
            "(122, 23)\n",
            "(199, 23)\n",
            "(133, 23)\n",
            "(219, 23)\n",
            "(146, 23)\n"
          ],
          "name": "stdout"
        }
      ]
    },
    {
      "cell_type": "markdown",
      "metadata": {
        "id": "kcw7y_J3zQUm",
        "colab_type": "text"
      },
      "source": [
        "Combining all uniformaliy splitted training datset in one and testing datset in one"
      ]
    },
    {
      "cell_type": "code",
      "metadata": {
        "id": "8N9c5SzJ-Mi3",
        "colab_type": "code",
        "outputId": "99d1844b-1325-40bb-8c56-279d79efe562",
        "colab": {
          "base_uri": "https://localhost:8080/",
          "height": 84
        }
      },
      "source": [
        "trainx=[]\n",
        "testx=[]\n",
        "trainy=[]\n",
        "testy=[]\n",
        "for i in range(0,len(lowtrainx)):\n",
        "  trainx.append(lowtrainx[i])\n",
        "for i in range(0,len(mediumtrainx)):\n",
        "  trainx.append(mediumtrainx[i])\n",
        "for i in range(0,len(hightrainx)):\n",
        "  trainx.append(hightrainx[i])\n",
        "trainx=np.array(trainx)\n",
        "print(trainx.shape)\n",
        "\n",
        "for i in range(0,len(lowtestx)):\n",
        "  testx.append(lowtestx[i])\n",
        "for i in range(0,len(mediumtestx)):\n",
        "  testx.append(mediumtestx[i])\n",
        "for i in range(0,len(hightestx)):\n",
        "  testx.append(hightestx[i])\n",
        "testx=np.array(testx)\n",
        "print(testx.shape)\n",
        "\n",
        "for val in lowtrainy:\n",
        "  trainy.append(val)\n",
        "for val in mediumtrainy:\n",
        "  trainy.append(val)\n",
        "for val in hightrainy:\n",
        "  trainy.append(val)\n",
        "for val in lowtesty:\n",
        "  testy.append(val)\n",
        "for val in mediumtesty:\n",
        "  testy.append(val)\n",
        "for val in hightesty:\n",
        "  testy.append(val)\n",
        "testy=np.array(testy)\n",
        "trainy=np.array(trainy)\n",
        "print(testy.shape)\n",
        "print(trainy.shape)\n"
      ],
      "execution_count": 136,
      "outputs": [
        {
          "output_type": "stream",
          "text": [
            "(599, 23)\n",
            "(401, 23)\n",
            "(401,)\n",
            "(599,)\n"
          ],
          "name": "stdout"
        }
      ]
    },
    {
      "cell_type": "code",
      "metadata": {
        "id": "PSi3KnRyfvP4",
        "colab_type": "code",
        "colab": {}
      },
      "source": [
        ""
      ],
      "execution_count": 0,
      "outputs": []
    },
    {
      "cell_type": "markdown",
      "metadata": {
        "id": "I5UivfhKeGfU",
        "colab_type": "text"
      },
      "source": [
        "**Saving splitted data in pickle for dataset1**"
      ]
    },
    {
      "cell_type": "code",
      "metadata": {
        "id": "7Lzur-MZeI0v",
        "colab_type": "code",
        "colab": {}
      },
      "source": [
        "def load_data(d,name):\n",
        "    dbfile = open(d, 'wb') \n",
        "    pickle.dump(name, dbfile)\n",
        "    dbfile.close()\n",
        "\n",
        "\n"
      ],
      "execution_count": 0,
      "outputs": []
    },
    {
      "cell_type": "code",
      "metadata": {
        "id": "I3bcennOe8j3",
        "colab_type": "code",
        "colab": {}
      },
      "source": [
        "dic_train={}\n",
        "dic_test={}\n",
        "dic_train[\"trainx\"]=trainx\n",
        "dic_train[\"trainy\"]=trainy\n",
        "dic_test[\"testx\"]=testx\n",
        "dic_test[\"testy\"]=testy\n",
        "\n",
        "#load_data(\"dic_train\",dic_train)\n",
        "#load_data(\"dic_test\",dic_test)"
      ],
      "execution_count": 0,
      "outputs": []
    },
    {
      "cell_type": "markdown",
      "metadata": {
        "id": "BeOpHPH-ew5u",
        "colab_type": "text"
      },
      "source": [
        "**Loading splittted test train data for dataset1**"
      ]
    },
    {
      "cell_type": "code",
      "metadata": {
        "id": "boxPRdWxeJHX",
        "colab_type": "code",
        "colab": {}
      },
      "source": [
        "def find_data(name):\n",
        "    a= open(name, 'rb')\n",
        "    p= pickle._Unpickler(a)\n",
        "    p.encoding='latin1'\n",
        "    db=p.load()\n",
        "    return db"
      ],
      "execution_count": 0,
      "outputs": []
    },
    {
      "cell_type": "code",
      "metadata": {
        "id": "RjDr-GCxe--D",
        "colab_type": "code",
        "colab": {}
      },
      "source": [
        "a1_dic=find_data(\"dic_train\")\n",
        "a2_dic=find_data(\"dic_test\")\n",
        "trainx=a1_dic[\"trainx\"]\n",
        "trainy=a1_dic[\"trainy\"]\n",
        "testx=a2_dic[\"testx\"]\n",
        "testy=a2_dic[\"testy\"]\n",
        "ggg=pickle.load(open('label','rb'))\n",
        "new_testy=ggg[0]; ens_testy=ggg[1]"
      ],
      "execution_count": 0,
      "outputs": []
    },
    {
      "cell_type": "code",
      "metadata": {
        "id": "08NNvSYSWCJF",
        "colab_type": "code",
        "outputId": "318e2619-a97b-40a1-b332-719697590b8b",
        "colab": {
          "base_uri": "https://localhost:8080/",
          "height": 84
        }
      },
      "source": [
        "print(trainx.shape)\n",
        "print(trainy.shape)\n",
        "print(testx.shape)\n",
        "print(testy.shape)"
      ],
      "execution_count": 141,
      "outputs": [
        {
          "output_type": "stream",
          "text": [
            "(599, 23)\n",
            "(599,)\n",
            "(401, 23)\n",
            "(401,)\n"
          ],
          "name": "stdout"
        }
      ]
    },
    {
      "cell_type": "markdown",
      "metadata": {
        "id": "ygU-Jf9oABWe",
        "colab_type": "text"
      },
      "source": [
        "**SVM ON EQUAL Class data**"
      ]
    },
    {
      "cell_type": "code",
      "metadata": {
        "id": "QU_8X3RlAKsd",
        "colab_type": "code",
        "outputId": "55823af5-5e72-45a3-f352-a27bcfed354a",
        "colab": {
          "base_uri": "https://localhost:8080/",
          "height": 318
        }
      },
      "source": [
        "SVM_classifier=SVC(kernel='rbf')\n",
        "score=cross_val_score(SVM_classifier,trainx,trainy, cv=5)\n",
        "#print (\"Score\",np.round(np.mean(score), 3))\n",
        "#print (\"STD\", np.round(np.std(score), 3))\n",
        "SVM_classifier.fit(trainx,trainy)\n",
        "svm_predicted_labels=SVM_classifier.predict(testx)\n",
        "v=accuracy_score_calculation(new_testy,svm_predicted_labels)\n",
        "print(\"Accyracy fOR SVM\",v)\n",
        "ploting=confusion_matrix_creation(new_testy,svm_predicted_labels,\"Confusion matrix for SVM\")\n",
        "ploting.show()\n",
        "#print(svm_predicted_labels)\n",
        "#print(testy)"
      ],
      "execution_count": 142,
      "outputs": [
        {
          "output_type": "stream",
          "text": [
            "Accyracy fOR SVM 0.9251870324189526\n"
          ],
          "name": "stdout"
        },
        {
          "output_type": "display_data",
          "data": {
            "image/png": "[encoded data removed]",
            "text/plain": [
              "<Figure size 432x288 with 2 Axes>"
            ]
          },
          "metadata": {
            "tags": []
          }
        }
      ]
    },
    {
      "cell_type": "markdown",
      "metadata": {
        "id": "lPd54QSpLeV-",
        "colab_type": "text"
      },
      "source": [
        "**KNN FOR CLASS EQUAL DISTRIBUTION**"
      ]
    },
    {
      "cell_type": "code",
      "metadata": {
        "id": "t9uRlb6DKrxZ",
        "colab_type": "code",
        "outputId": "a36201f2-3050-4dab-e60d-d5036aa97cbb",
        "colab": {
          "base_uri": "https://localhost:8080/",
          "height": 318
        }
      },
      "source": [
        "knn = KNeighborsClassifier(n_neighbors =4)\n",
        "score=cross_val_score(knn,trainx,trainy, cv=5)\n",
        "#print (\"Score\",np.round(np.mean(score), 3))\n",
        "#print (\"STD\", np.round(np.std(score), 3))\n",
        "knn.fit(trainx,trainy) \n",
        "\n",
        "knn_predicted_labels=knn.predict(testx)  \n",
        "acc=accuracy_score_calculation(new_testy,knn_predicted_labels)\n",
        "print(\"Accuracy fOR KNN,N=4\",acc)\n",
        "ploting=confusion_matrix_creation(new_testy,knn_predicted_labels,\"Confusion matrix for KNN\")\n",
        "ploting.show()\n",
        "#print(predicted_labels)\n",
        "#print(testy)\n",
        "\n",
        "\n"
      ],
      "execution_count": 143,
      "outputs": [
        {
          "output_type": "stream",
          "text": [
            "Accuracy fOR KNN,N=4 0.9201995012468828\n"
          ],
          "name": "stdout"
        },
        {
          "output_type": "display_data",
          "data": {
            "image/png": "[encoded data removed]",
            "text/plain": [
              "<Figure size 432x288 with 2 Axes>"
            ]
          },
          "metadata": {
            "tags": []
          }
        }
      ]
    },
    {
      "cell_type": "markdown",
      "metadata": {
        "id": "FjOAjXiBMJDT",
        "colab_type": "text"
      },
      "source": [
        "**Naive Bayes**"
      ]
    },
    {
      "cell_type": "code",
      "metadata": {
        "id": "I0oTBV8SMHJ2",
        "colab_type": "code",
        "outputId": "8d8df403-63b1-480b-ca09-28f0e54f2de1",
        "colab": {
          "base_uri": "https://localhost:8080/",
          "height": 318
        }
      },
      "source": [
        "NB= MultinomialNB()\n",
        "score=cross_val_score(NB,trainx,trainy, cv=5)\n",
        "#print (\"Score\",np.round(np.mean(score), 3))\n",
        "#print (\"STD\", np.round(np.std(score), 3))\n",
        "NB.fit(trainx,trainy) \n",
        "\n",
        "naive_predicted_labels=NB.predict(testx)  \n",
        "acc=accuracy_score_calculation(testy,naive_predicted_labels)\n",
        "print(\"Accuracy for Multinomial naive bayes\",acc)\n",
        "ploting=confusion_matrix_creation(testy,naive_predicted_labels,\"Confusion matrix for Naive Bayes\")\n",
        "ploting.show()\n",
        "#print(predicted_labels)\n",
        "#print(testy)"
      ],
      "execution_count": 144,
      "outputs": [
        {
          "output_type": "stream",
          "text": [
            "Accuracy for Multinomial naive bayes 0.7531172069825436\n"
          ],
          "name": "stdout"
        },
        {
          "output_type": "display_data",
          "data": {
            "image/png": "[encoded data removed]",
            "text/plain": [
              "<Figure size 432x288 with 2 Axes>"
            ]
          },
          "metadata": {
            "tags": []
          }
        }
      ]
    },
    {
      "cell_type": "markdown",
      "metadata": {
        "id": "OKW9f4f8MiCh",
        "colab_type": "text"
      },
      "source": [
        "**Decision Tree**"
      ]
    },
    {
      "cell_type": "code",
      "metadata": {
        "id": "WVOxKD7PMnzN",
        "colab_type": "code",
        "outputId": "06a23ecf-b84e-4851-82e4-41a3e4e2d374",
        "colab": {
          "base_uri": "https://localhost:8080/",
          "height": 318
        }
      },
      "source": [
        "DT= tree.DecisionTreeClassifier()\n",
        "score=cross_val_score(DT,trainx,trainy, cv=5)\n",
        "#print (\"Score\",np.round(np.mean(score), 3))\n",
        "#print (\"STD\", np.round(np.std(score), 3))\n",
        "DT.fit(trainx,trainy) \n",
        "\n",
        "tr_predicted_labels=DT.predict(testx)  \n",
        "acc=accuracy_score_calculation(new_testy,tr_predicted_labels)\n",
        "print(\"Accuracy for Decision Tree(J48) \",acc)\n",
        "ploting=confusion_matrix_creation(new_testy,tr_predicted_labels,\"Confusion matrix for Decision Tree\")\n",
        "ploting.show()\n",
        "#print(predicted_labels)\n",
        "#print(testy)"
      ],
      "execution_count": 145,
      "outputs": [
        {
          "output_type": "stream",
          "text": [
            "Accuracy for Decision Tree(J48)  0.9201995012468828\n"
          ],
          "name": "stdout"
        },
        {
          "output_type": "display_data",
          "data": {
            "image/png": "[encoded data removed]",
            "text/plain": [
              "<Figure size 432x288 with 2 Axes>"
            ]
          },
          "metadata": {
            "tags": []
          }
        }
      ]
    },
    {
      "cell_type": "markdown",
      "metadata": {
        "id": "tULYEr5MM2uO",
        "colab_type": "text"
      },
      "source": [
        "**Logistic Regression**"
      ]
    },
    {
      "cell_type": "code",
      "metadata": {
        "id": "bUI4b_xJM-tU",
        "colab_type": "code",
        "outputId": "89924ff3-9aa6-4f38-ca30-13da92b28355",
        "colab": {
          "base_uri": "https://localhost:8080/",
          "height": 318
        }
      },
      "source": [
        "LR = LogisticRegression(random_state=0)\n",
        "tf1=trainx/255.0\n",
        "tf2=testx/255.0\n",
        "score=cross_val_score(LR,tf1,trainy, cv=5)\n",
        "#print (\"Score\",np.round(np.mean(score), 3))\n",
        "#print (\"STD\", np.round(np.std(score), 3))\n",
        "LR.fit(tf1,trainy) \n",
        "\n",
        "lr_predicted_labels=LR.predict(tf2)  \n",
        "acc=accuracy_score_calculation(testy,lr_predicted_labels)\n",
        "print(\"Accuracy for Logistic Regression\",acc)\n",
        "#print(predicted_labels)\n",
        "#print(testy)\n",
        "ploting=confusion_matrix_creation(testy,lr_predicted_labels,\"Confusion matrix for Logistic Regression\")\n",
        "ploting.show()"
      ],
      "execution_count": 146,
      "outputs": [
        {
          "output_type": "stream",
          "text": [
            "Accuracy for Logistic Regression 0.7182044887780549\n"
          ],
          "name": "stdout"
        },
        {
          "output_type": "display_data",
          "data": {
            "image/png": "[encoded data removed]",
            "text/plain": [
              "<Figure size 432x288 with 2 Axes>"
            ]
          },
          "metadata": {
            "tags": []
          }
        }
      ]
    },
    {
      "cell_type": "markdown",
      "metadata": {
        "id": "SdpNzN1sWvXL",
        "colab_type": "text"
      },
      "source": [
        "**Deep learning**"
      ]
    },
    {
      "cell_type": "code",
      "metadata": {
        "id": "6QDI6fjfW0h9",
        "colab_type": "code",
        "outputId": "6b81660a-c069-4b1f-c600-06b40b618f56",
        "colab": {
          "base_uri": "https://localhost:8080/",
          "height": 67
        }
      },
      "source": [
        "train_vector=trainx.reshape(len(trainx),len(trainx[0]),1)\n",
        "test_vector=testx.reshape(len(testx),len(testx[0]),1)\n",
        "print(train_vector.shape)\n",
        "print(test_vector.shape)\n",
        "print(test_vector.shape[0])"
      ],
      "execution_count": 147,
      "outputs": [
        {
          "output_type": "stream",
          "text": [
            "(599, 23, 1)\n",
            "(401, 23, 1)\n",
            "401\n"
          ],
          "name": "stdout"
        }
      ]
    },
    {
      "cell_type": "code",
      "metadata": {
        "id": "SzLDZy8uXY1I",
        "colab_type": "code",
        "outputId": "b8891f81-4f9c-4cc0-89ad-070b187d6828",
        "colab": {
          "base_uri": "https://localhost:8080/",
          "height": 34
        }
      },
      "source": [
        "temp_y=[[0,0,0] for i in range(0,train_vector.shape[0])]\n",
        "for i in range(0,train_vector.shape[0]):\n",
        "    if trainy[i]==0:\n",
        "      temp_y[i][0]=1\n",
        "    elif trainy[i]==1:\n",
        "      temp_y[i][1]=1\n",
        "    else:\n",
        "        temp_y[i][2]=1\n",
        "temp_y=np.array(temp_y)\n",
        "print(temp_y.shape)"
      ],
      "execution_count": 148,
      "outputs": [
        {
          "output_type": "stream",
          "text": [
            "(599, 3)\n"
          ],
          "name": "stdout"
        }
      ]
    },
    {
      "cell_type": "code",
      "metadata": {
        "id": "cb_zxZF5aBqk",
        "colab_type": "code",
        "outputId": "5d639507-52bf-431a-938d-f2340138432a",
        "colab": {
          "base_uri": "https://localhost:8080/",
          "height": 34
        }
      },
      "source": [
        "print(train_vector.shape[1:])"
      ],
      "execution_count": 149,
      "outputs": [
        {
          "output_type": "stream",
          "text": [
            "(23, 1)\n"
          ],
          "name": "stdout"
        }
      ]
    },
    {
      "cell_type": "markdown",
      "metadata": {
        "id": "oOI4mwWvzesp",
        "colab_type": "text"
      },
      "source": [
        "Sequential ANN Model is implemented "
      ]
    },
    {
      "cell_type": "code",
      "metadata": {
        "id": "HCXjTJnTYC6T",
        "colab_type": "code",
        "colab": {
          "base_uri": "https://localhost:8080/",
          "height": 269
        },
        "outputId": "e7ad6db5-6b88-4b66-800f-5ea8f81081ad"
      },
      "source": [
        "model=Sequential()\n",
        "model.add(Dense(5,input_shape=train_vector.shape[1:],activation=\"relu\"))\n",
        "#model.add(Dense(10,activation=\"relu\"))\n",
        "#model.add(Dense(5,activation=\"relu\"))\n",
        "model.add(Flatten())\n",
        "#model.add(Dropout(0.2))\n",
        "model.add(Dense(3,activation=\"softmax\"))\n",
        "opt=tf.keras.optimizers.Adam(lr=1e-3,decay=1e-5)\n",
        "\n",
        "model.compile(optimizer='adam', loss='binary_crossentropy', metrics=['accuracy'])\n",
        "print(model.summary())\n",
        "EPOCHS=24\n",
        "st1,tsl1,st2,tsl2=train_test_split(train_vector,temp_y, test_size = 0.25)\n",
        "#H=model.fit(train_vector, temp_y, epochs=EPOCHS)\n",
        "H=model.fit(st1, st2, validation_data=(tsl1,tsl2 ), epochs=EPOCHS, batch_size=32,verbose=False)"
      ],
      "execution_count": 150,
      "outputs": [
        {
          "output_type": "stream",
          "text": [
            "Model: \"sequential_6\"\n",
            "_________________________________________________________________\n",
            "Layer (type)                 Output Shape              Param #   \n",
            "=================================================================\n",
            "dense_11 (Dense)             (None, 23, 5)             10        \n",
            "_________________________________________________________________\n",
            "flatten_6 (Flatten)          (None, 115)               0         \n",
            "_________________________________________________________________\n",
            "dense_12 (Dense)             (None, 3)                 348       \n",
            "=================================================================\n",
            "Total params: 358\n",
            "Trainable params: 358\n",
            "Non-trainable params: 0\n",
            "_________________________________________________________________\n",
            "None\n"
          ],
          "name": "stdout"
        }
      ]
    },
    {
      "cell_type": "markdown",
      "metadata": {
        "id": "VgecCczzzj5k",
        "colab_type": "text"
      },
      "source": [
        "**Training and loss curve is getting plotted here for datset 1** "
      ]
    },
    {
      "cell_type": "code",
      "metadata": {
        "id": "RYnFrBzwYzax",
        "colab_type": "code",
        "outputId": "3a35c505-5bac-4139-d739-7cdad5f947aa",
        "colab": {
          "base_uri": "https://localhost:8080/",
          "height": 587
        }
      },
      "source": [
        "import matplotlib.pyplot as plt\n",
        "N = np.arange(0, 24)\n",
        "plt.style.use(\"ggplot\")\n",
        "plt.figure(figsize=(16,9))\n",
        "plt.title(\"Training and Test Loss (Dense NN)\",{'fontsize':23})\n",
        "plt.plot(N, H.history[\"loss\"], label=\"train_loss\")\n",
        "plt.plot(N, H.history[\"val_loss\"], label=\"test_loss\", )\n",
        "#plt.plot(N, H.history[\"accuracy\"], label=\"train_acc\")\n",
        "#plt.plot(N, H.history[\"val_accuracy\"], label=\"test_acc\")\n",
        "plt.xlabel(\"Epoch #\",{'fontsize':20, 'fontweight':550})\n",
        "plt.ylabel(\"Loss\",{'fontsize':20, 'fontweight':550})\n",
        "plt.legend(loc=\"best\", prop={'size':20})\n",
        "plt.show()"
      ],
      "execution_count": 151,
      "outputs": [
        {
          "output_type": "display_data",
          "data": {
            "image/png": "[encoded data removed]",
            "text/plain": [
              "<Figure size 1152x648 with 1 Axes>"
            ]
          },
          "metadata": {
            "tags": []
          }
        }
      ]
    },
    {
      "cell_type": "markdown",
      "metadata": {
        "id": "ohVq7uM6zw0x",
        "colab_type": "text"
      },
      "source": [
        "Prediction is done for ANN model"
      ]
    },
    {
      "cell_type": "code",
      "metadata": {
        "id": "J515LBdlco9L",
        "colab_type": "code",
        "outputId": "670a2a9d-2d18-4e0b-c835-a5b79a5b2873",
        "colab": {
          "base_uri": "https://localhost:8080/",
          "height": 318
        }
      },
      "source": [
        "model=load_model('ANN_data1_model')\n",
        "pred_labels=model.predict(test_vector)\n",
        "pred_labels_final=pred_labels.argmax(axis=1)\n",
        "pred_list=[]\n",
        "for i in pred_labels_final:\n",
        "  pred_list.append(i)\n",
        "#print(pred_list)\n",
        "acc=accuracy_score_calculation(new_testy,pred_list)\n",
        "print(\"Accuracy for Multilayer perceptron\",acc)\n",
        "ploting=confusion_matrix_creation(new_testy,pred_list,\"Confusion matrix for Multilayer Perceptron\")\n",
        "ploting.show()"
      ],
      "execution_count": 152,
      "outputs": [
        {
          "output_type": "stream",
          "text": [
            "Accuracy for Multilayer perceptron 0.9376558603491272\n"
          ],
          "name": "stdout"
        },
        {
          "output_type": "display_data",
          "data": {
            "image/png": "[encoded data removed]",
            "text/plain": [
              "<Figure size 432x288 with 2 Axes>"
            ]
          },
          "metadata": {
            "tags": []
          }
        }
      ]
    },
    {
      "cell_type": "markdown",
      "metadata": {
        "id": "dzW0rWOu5gm7",
        "colab_type": "text"
      },
      "source": [
        "Making majority voting decision : Ensemble model\n"
      ]
    },
    {
      "cell_type": "code",
      "metadata": {
        "id": "hGEJwmZt5jRV",
        "colab_type": "code",
        "outputId": "d24cc35a-0997-46fc-9623-0f84db934138",
        "colab": {
          "base_uri": "https://localhost:8080/",
          "height": 318
        }
      },
      "source": [
        "#print(svm_predicted_labels)\n",
        "#print(knn_predicted_labels)\n",
        "#dense\n",
        "major_pred_labels=[]\n",
        "for i in range(0,len(pred_list)):\n",
        "  li=[]\n",
        "  li.append(svm_predicted_labels[i])\n",
        "  li.append(knn_predicted_labels[i])\n",
        "  li.append(pred_list[i])\n",
        "  \n",
        "  try:\n",
        "    major_pred_labels.append(mode(li))\n",
        "  except:\n",
        "    major_pred_labels.append(pred_list[i])\n",
        "#print(major_pred_labels)\n",
        "acc=accuracy_score_calculation(ens_testy,major_pred_labels)\n",
        "print(\"Ensemble model Acuuracy\",acc)\n",
        "ploting=confusion_matrix_creation(ens_testy,major_pred_labels,\"Confusion matrix for Ensemble\")\n",
        "ploting.show()\n"
      ],
      "execution_count": 153,
      "outputs": [
        {
          "output_type": "stream",
          "text": [
            "Ensemble model Acuuracy 0.9526184538653366\n"
          ],
          "name": "stdout"
        },
        {
          "output_type": "display_data",
          "data": {
            "image/png": "[encoded data removed]",
            "text/plain": [
              "<Figure size 432x288 with 2 Axes>"
            ]
          },
          "metadata": {
            "tags": []
          }
        }
      ]
    },
    {
      "cell_type": "markdown",
      "metadata": {
        "id": "_z1rm4Xpol55",
        "colab_type": "text"
      },
      "source": [
        "**DATASET 2 is read with pandas**"
      ]
    },
    {
      "cell_type": "code",
      "metadata": {
        "id": "QXV1hOQlouLV",
        "colab_type": "code",
        "colab": {}
      },
      "source": [
        "read_data=pd.read_csv(\"lung-cancer.csv\")\n",
        "#read_data.head()"
      ],
      "execution_count": 0,
      "outputs": []
    },
    {
      "cell_type": "markdown",
      "metadata": {
        "id": "-bvDwUnE0CRR",
        "colab_type": "text"
      },
      "source": [
        "**Data is getting splitted uniformaly on basis of class on training and testing**"
      ]
    },
    {
      "cell_type": "code",
      "metadata": {
        "id": "BgLQ1SGFo3uI",
        "colab_type": "code",
        "colab": {}
      },
      "source": [
        "yes_data_label=[]\n",
        "no_data_label=[]\n",
        "d2_yes_data=read_data.loc[read_data['Level'] == 'YES', 'Age':'Snoring']\n",
        "yes_data_feature=np.array(d2_yes_data)\n",
        "d2_no_data=read_data.loc[read_data['Level'] == 'NO', 'Age':'Snoring']\n",
        "no_data_feature=np.array(d2_no_data)\n",
        "for i in yes_data_feature:\n",
        "  yes_data_label.append(1)\n",
        "for i in no_data_feature:\n",
        "  no_data_label.append(0)"
      ],
      "execution_count": 0,
      "outputs": []
    },
    {
      "cell_type": "code",
      "metadata": {
        "id": "udwxUTglo34k",
        "colab_type": "code",
        "colab": {}
      },
      "source": [
        "yestrainx, yestestx,yestrainy, yestesty = train_test_split(yes_data_feature,yes_data_label, test_size = 0.4, random_state = 0)\n",
        "notrainx, notestx,notrainy, notesty = train_test_split(no_data_feature,no_data_label, test_size = 0.4, random_state = 0)\n"
      ],
      "execution_count": 0,
      "outputs": []
    },
    {
      "cell_type": "markdown",
      "metadata": {
        "id": "8_hJxU6_0LwR",
        "colab_type": "text"
      },
      "source": [
        "**Data are combined to making one testing and one training data**"
      ]
    },
    {
      "cell_type": "code",
      "metadata": {
        "id": "gKXlSsVWo38f",
        "colab_type": "code",
        "colab": {}
      },
      "source": [
        "d2_trainx=[]\n",
        "d2_testx=[]\n",
        "d2_trainy=[]\n",
        "d2_testy=[]\n",
        "\n",
        "for i in range(0,len(yestrainx)):\n",
        "  d2_trainx.append(yestrainx[i])\n",
        "for i in range(0,len(notrainx)):\n",
        "  d2_trainx.append(notrainx[i])\n",
        "d2_trainx=np.array(d2_trainx)\n",
        "#print(d2_trainx.shape)\n",
        "\n",
        "for i in range(0,len(yestestx)):\n",
        "  d2_testx.append(yestestx[i])\n",
        "for i in range(0,len(notestx)):\n",
        "  d2_testx.append(notestx[i])\n",
        "d2_testx=np.array(d2_testx)\n",
        "#print(d2_testx.shape)\n",
        "\n",
        "for val in yestrainy:\n",
        "  d2_trainy.append(val)\n",
        "for val in notrainy:\n",
        "  d2_trainy.append(val)\n",
        "\n",
        "for val in yestesty:\n",
        "  d2_testy.append(val)\n",
        "for val in notesty:\n",
        "  d2_testy.append(val)\n",
        "\n",
        "d2_testy=np.array(d2_testy)\n",
        "d2_trainy=np.array(d2_trainy)\n",
        "#print(d2_testy.shape)\n",
        "#print(d2_trainy.shape)\n"
      ],
      "execution_count": 0,
      "outputs": []
    },
    {
      "cell_type": "markdown",
      "metadata": {
        "id": "K7cgb6jztrjk",
        "colab_type": "text"
      },
      "source": [
        "**Saving train test data for datset2**"
      ]
    },
    {
      "cell_type": "code",
      "metadata": {
        "id": "9S3lmObmo3xW",
        "colab_type": "code",
        "colab": {}
      },
      "source": [
        "d_train={}\n",
        "d_test={}\n",
        "d_train[\"trainx\"]=d2_trainx\n",
        "d_train[\"trainy\"]=d2_trainy\n",
        "d_test[\"testx\"]=d2_testx\n",
        "d_test[\"testy\"]=d2_testy\n",
        "\n",
        "#load_data(\"d_train\",d_train)\n",
        "#load_data(\"d_test\",d_test)"
      ],
      "execution_count": 0,
      "outputs": []
    },
    {
      "cell_type": "markdown",
      "metadata": {
        "id": "Vfha25qQt0cW",
        "colab_type": "text"
      },
      "source": [
        "**Loading train_test data for dataset2**"
      ]
    },
    {
      "cell_type": "code",
      "metadata": {
        "id": "YPY-cRA2o3sH",
        "colab_type": "code",
        "colab": {}
      },
      "source": [
        "d_a1_dic=find_data(\"d_train\")\n",
        "d_a2_dic=find_data(\"d_test\")\n",
        "d2_trainx=d_a1_dic[\"trainx\"]\n",
        "d2_trainy=d_a1_dic[\"trainy\"]\n",
        "d2_testx=d_a2_dic[\"testx\"]\n",
        "d2_testy=d_a2_dic[\"testy\"]\n",
        "hhh=pickle.load(open('label2','rb'))\n",
        "d2_ens_testy = hhh[1]"
      ],
      "execution_count": 0,
      "outputs": []
    },
    {
      "cell_type": "code",
      "metadata": {
        "id": "18ocoMMHxs3p",
        "colab_type": "code",
        "outputId": "39cd13a9-f306-4f7b-f572-ffbef0f0fabe",
        "colab": {
          "base_uri": "https://localhost:8080/",
          "height": 168
        }
      },
      "source": [
        "print(d2_trainy)\n",
        "print(d2_testy)"
      ],
      "execution_count": 160,
      "outputs": [
        {
          "output_type": "stream",
          "text": [
            "[1 1 1 1 1 1 1 1 1 1 1 1 1 1 1 1 1 1 1 1 1 1 1 1 1 1 1 1 1 1 1 1 1 1 1 1 1\n",
            " 1 1 1 1 1 1 1 1 1 1 1 1 1 1 1 1 1 1 1 1 1 1 1 1 1 1 1 1 1 1 1 1 1 1 1 1 1\n",
            " 1 1 1 1 1 1 1 1 1 1 1 1 1 1 1 1 1 1 1 1 1 1 1 1 1 1 1 1 1 1 1 1 1 1 1 1 1\n",
            " 1 1 1 1 1 1 1 1 1 1 1 1 1 1 1 1 1 1 1 1 1 1 1 1 1 1 1 1 1 1 1 1 1 1 1 1 1\n",
            " 1 1 1 1 1 1 1 1 1 1 1 1 1 1 0 0 0 0 0 0 0 0 0 0 0 0 0 0 0 0 0 0 0 0 0 0 0]\n",
            "[1 1 1 1 1 1 1 1 1 1 1 1 1 1 1 1 1 1 1 1 1 1 1 1 1 1 1 1 1 1 1 1 1 1 1 1 1\n",
            " 1 1 1 1 1 1 1 1 1 1 1 1 1 1 1 1 1 1 1 1 1 1 1 1 1 1 1 1 1 1 1 1 1 1 1 1 1\n",
            " 1 1 1 1 1 1 1 1 1 1 1 1 1 1 1 1 1 1 1 1 1 1 1 1 1 1 1 1 1 1 1 1 1 1 0 0 0\n",
            " 0 0 0 0 0 0 0 0 0 0 0 0 0]\n"
          ],
          "name": "stdout"
        }
      ]
    },
    {
      "cell_type": "markdown",
      "metadata": {
        "id": "_w_cyX9K0THE",
        "colab_type": "text"
      },
      "source": [
        "**Confusion matrix for dataset 2**"
      ]
    },
    {
      "cell_type": "code",
      "metadata": {
        "id": "pja_O2ipwuCn",
        "colab_type": "code",
        "colab": {}
      },
      "source": [
        "def d2_confusion_matrix_creation(test_y,pred_y,plot_name):\n",
        "  a=list(test_y)\n",
        "  b=list(pred_y)\n",
        "  t=confusion_matrix(a,b)\n",
        "  df_cm = pd.DataFrame(t,(\"NO\",\"YES\"), (\"NO\",\"YES\"))\n",
        "  # plt.figure(figsize=(10,7))\n",
        "  sns.set(font_scale=1) # for label size\n",
        "  sns.heatmap(df_cm, annot=True, annot_kws={\"size\": 10}) # font size\n",
        "  plt.title(plot_name)\n",
        "  plt.ylabel('True label')\n",
        "  plt.xlabel('Predicted label')\n",
        "  return plt\n",
        "def d2_confusion_matrixcreation(test_y,pred_y,plot_name):\n",
        "  from PIL import Image\n",
        "  Im=Image.open('download.png')\n",
        "  return Im"
      ],
      "execution_count": 0,
      "outputs": []
    },
    {
      "cell_type": "markdown",
      "metadata": {
        "id": "jDARezqpvvaH",
        "colab_type": "text"
      },
      "source": [
        "**SVM**"
      ]
    },
    {
      "cell_type": "code",
      "metadata": {
        "id": "CCW5eOs_vG6q",
        "colab_type": "code",
        "outputId": "83245449-8298-42f7-b39e-5d19054e22bb",
        "colab": {
          "base_uri": "https://localhost:8080/",
          "height": 318
        }
      },
      "source": [
        "SVM_classifier=SVC(kernel='rbf')\n",
        "score=cross_val_score(SVM_classifier,d2_trainx,d2_trainy, cv=5)\n",
        "#print (\"Score\",np.round(np.mean(score), 3))\n",
        "#print (\"STD\", np.round(np.std(score), 3))\n",
        "SVM_classifier.fit(d2_trainx,d2_trainy)\n",
        "d2_svm_predicted_labels=SVM_classifier.predict(d2_testx)\n",
        "v=accuracy_score_calculation(d2_testy,d2_svm_predicted_labels)\n",
        "print(\"Accuracy fOR SVM\",v)\n",
        "ploting=d2_confusion_matrix_creation(d2_testy,d2_svm_predicted_labels,\"Confusion matrix for SVM\")\n",
        "ploting.show()\n",
        "#print(svm_predicted_labels)\n",
        "#print(testy)"
      ],
      "execution_count": 177,
      "outputs": [
        {
          "output_type": "stream",
          "text": [
            "Accuracy fOR SVM 0.8709677419354839\n"
          ],
          "name": "stdout"
        },
        {
          "output_type": "display_data",
          "data": {
            "image/png": "[encoded data removed]",
            "text/plain": [
              "<Figure size 432x288 with 2 Axes>"
            ]
          },
          "metadata": {
            "tags": []
          }
        }
      ]
    },
    {
      "cell_type": "markdown",
      "metadata": {
        "id": "tVrsF_aczlYh",
        "colab_type": "text"
      },
      "source": [
        "**KNN**"
      ]
    },
    {
      "cell_type": "code",
      "metadata": {
        "id": "84K16LrMvG-Z",
        "colab_type": "code",
        "outputId": "c46e2f40-a6d6-4e38-bf9a-03e08348cdcc",
        "colab": {
          "base_uri": "https://localhost:8080/",
          "height": 318
        }
      },
      "source": [
        "knn = KNeighborsClassifier(n_neighbors =4)\n",
        "score=cross_val_score(knn,d2_trainx,d2_trainy, cv=5)\n",
        "#print (\"Score\",np.round(np.mean(score), 3))\n",
        "#print (\"STD\", np.round(np.std(score), 3))\n",
        "knn.fit(d2_trainx,d2_trainy) \n",
        "knn_predicted_labels=knn.predict(d2_testx)  \n",
        "acc=accuracy_score_calculation(d2_testy,knn_predicted_labels)\n",
        "print(\"Accuracy fOR KNN,N=4 \",acc)\n",
        "ploting=d2_confusion_matrix_creation(d2_testy,knn_predicted_labels,\"Confusion matrix for KNN\")\n",
        "ploting.show()\n",
        "#print(predicted_labels)\n",
        "#print(testy)\n",
        "\n",
        "\n"
      ],
      "execution_count": 163,
      "outputs": [
        {
          "output_type": "stream",
          "text": [
            "Accuracy fOR KNN,N=4  0.8629032258064516\n"
          ],
          "name": "stdout"
        },
        {
          "output_type": "display_data",
          "data": {
            "image/png": "[encoded data removed]",
            "text/plain": [
              "<Figure size 432x288 with 2 Axes>"
            ]
          },
          "metadata": {
            "tags": []
          }
        }
      ]
    },
    {
      "cell_type": "markdown",
      "metadata": {
        "id": "oqcgWXRl0DcU",
        "colab_type": "text"
      },
      "source": [
        "**Naive Bayes**"
      ]
    },
    {
      "cell_type": "code",
      "metadata": {
        "id": "4FGPPW0VvHDZ",
        "colab_type": "code",
        "outputId": "e720811d-d5a7-4a0e-d37f-7c6412c7babf",
        "colab": {
          "base_uri": "https://localhost:8080/",
          "height": 351
        }
      },
      "source": [
        "NB= MultinomialNB()\n",
        "score=cross_val_score(NB,d2_trainx,d2_trainy, cv=5)\n",
        "print (\"Score\",np.round(np.mean(score), 3))\n",
        "print (\"STD\", np.round(np.std(score), 3))\n",
        "NB.fit(d2_trainx,d2_trainy) \n",
        "naive_predicted_labels=NB.predict(d2_testx)  \n",
        "acc=accuracy_score_calculation(d2_testy,naive_predicted_labels)\n",
        "print(\"Accuracy for Multinomial naive bayes\",acc)\n",
        "ploting=d2_confusion_matrix_creation(d2_testy,naive_predicted_labels,\"Confusion matrix for Naive Bayes\")\n",
        "ploting.show()\n",
        "#print(predicted_labels)\n",
        "#print(testy)"
      ],
      "execution_count": 164,
      "outputs": [
        {
          "output_type": "stream",
          "text": [
            "Score 0.876\n",
            "STD 0.013\n",
            "Accuracy for Multinomial naive bayes 0.8709677419354839\n"
          ],
          "name": "stdout"
        },
        {
          "output_type": "display_data",
          "data": {
            "image/png": "[encoded data removed]",
            "text/plain": [
              "<Figure size 432x288 with 2 Axes>"
            ]
          },
          "metadata": {
            "tags": []
          }
        }
      ]
    },
    {
      "cell_type": "markdown",
      "metadata": {
        "id": "VGfrk24M0Nin",
        "colab_type": "text"
      },
      "source": [
        "**Decision Tree**"
      ]
    },
    {
      "cell_type": "code",
      "metadata": {
        "id": "8eoj146OvHI0",
        "colab_type": "code",
        "outputId": "f87c93b9-c470-446b-9699-8467b8391792",
        "colab": {
          "base_uri": "https://localhost:8080/",
          "height": 351
        }
      },
      "source": [
        "DT= tree.DecisionTreeClassifier()\n",
        "score=cross_val_score(DT,d2_trainx,d2_trainy, cv=5)\n",
        "print (\"Score\",np.round(np.mean(score), 3))\n",
        "print (\"STD\", np.round(np.std(score), 3))\n",
        "DT.fit(d2_trainx,d2_trainy) \n",
        "tr_predicted_labels=DT.predict(d2_testx)  \n",
        "acc=accuracy_score_calculation(d2_testy,tr_predicted_labels)\n",
        "print(\"Accuracy for Decision Tree(J48) \",acc)\n",
        "ploting=d2_confusion_matrix_creation(d2_testy,tr_predicted_labels,\"Confusion matrix for Decision Tree\")\n",
        "ploting.show()\n",
        "#print(predicted_labels)\n",
        "#print(testy)"
      ],
      "execution_count": 165,
      "outputs": [
        {
          "output_type": "stream",
          "text": [
            "Score 0.843\n",
            "STD 0.04\n",
            "Accuracy for Decision Tree(J48)  0.8548387096774194\n"
          ],
          "name": "stdout"
        },
        {
          "output_type": "display_data",
          "data": {
            "image/png": "[encoded data removed]",
            "text/plain": [
              "<Figure size 432x288 with 2 Axes>"
            ]
          },
          "metadata": {
            "tags": []
          }
        }
      ]
    },
    {
      "cell_type": "markdown",
      "metadata": {
        "id": "polSSPeM05mq",
        "colab_type": "text"
      },
      "source": [
        "**Logistic Regression**"
      ]
    },
    {
      "cell_type": "code",
      "metadata": {
        "id": "XcP9HsLlvHHK",
        "colab_type": "code",
        "outputId": "19fec51e-fc74-4256-bc4c-1e2570244915",
        "colab": {
          "base_uri": "https://localhost:8080/",
          "height": 351
        }
      },
      "source": [
        "LR = LogisticRegression(random_state=0)\n",
        "tf1=d2_trainx/255.0\n",
        "tf2=d2_testx/255.0\n",
        "score=cross_val_score(LR,tf1,d2_trainy, cv=5)\n",
        "print (\"Score\",np.round(np.mean(score), 3))\n",
        "print (\"STD\", np.round(np.std(score), 3))\n",
        "LR.fit(tf1,d2_trainy) \n",
        "\n",
        "lr_predicted_labels=LR.predict(tf2)  \n",
        "acc=accuracy_score_calculation(d2_testy,lr_predicted_labels)\n",
        "print(\"Accuracy for Logistic Regression\",acc)\n",
        "#print(predicted_labels)\n",
        "#print(testy)\n",
        "ploting=d2_confusion_matrix_creation(d2_testy,lr_predicted_labels,\"Confusion matrix for Logistic Regression\")\n",
        "ploting.show()"
      ],
      "execution_count": 166,
      "outputs": [
        {
          "output_type": "stream",
          "text": [
            "Score 0.876\n",
            "STD 0.013\n",
            "Accuracy for Logistic Regression 0.8709677419354839\n"
          ],
          "name": "stdout"
        },
        {
          "output_type": "display_data",
          "data": {
            "image/png": "[encoded data removed]",
            "text/plain": [
              "<Figure size 432x288 with 2 Axes>"
            ]
          },
          "metadata": {
            "tags": []
          }
        }
      ]
    },
    {
      "cell_type": "markdown",
      "metadata": {
        "id": "KoAThxnI1Pcw",
        "colab_type": "text"
      },
      "source": [
        "**Deep Learning**"
      ]
    },
    {
      "cell_type": "code",
      "metadata": {
        "id": "ndlGf9N71W7v",
        "colab_type": "code",
        "colab": {}
      },
      "source": [
        "train_vector=d2_trainx.reshape(len(d2_trainx),len(d2_trainx[0]),1)\n",
        "test_vector=d2_testx.reshape(len(d2_testx),len(d2_testx[0]),1)\n",
        "#print(train_vector.shape)\n",
        "#print(test_vector.shape)\n",
        "#print(test_vector.shape[0])"
      ],
      "execution_count": 0,
      "outputs": []
    },
    {
      "cell_type": "code",
      "metadata": {
        "id": "2pM4ikaP1diF",
        "colab_type": "code",
        "outputId": "541fed75-c61e-45b6-a811-56877e465132",
        "colab": {
          "base_uri": "https://localhost:8080/",
          "height": 34
        }
      },
      "source": [
        "temp_y=[[0,0] for i in range(0,train_vector.shape[0])]\n",
        "for i in range(0,train_vector.shape[0]):\n",
        "    if d2_trainy[i]==0:\n",
        "      temp_y[i][0]=1\n",
        "    elif d2_trainy[i]==1:\n",
        "      temp_y[i][1]=1\n",
        "temp_y=np.array(temp_y)\n",
        "print(temp_y.shape)"
      ],
      "execution_count": 168,
      "outputs": [
        {
          "output_type": "stream",
          "text": [
            "(185, 2)\n"
          ],
          "name": "stdout"
        }
      ]
    },
    {
      "cell_type": "markdown",
      "metadata": {
        "id": "UaWAgUhQ0Zmk",
        "colab_type": "text"
      },
      "source": [
        "**Sequential ANN model is build for dataset 2**"
      ]
    },
    {
      "cell_type": "code",
      "metadata": {
        "id": "xgAmSGUO1dmA",
        "colab_type": "code",
        "colab": {
          "base_uri": "https://localhost:8080/",
          "height": 286
        },
        "outputId": "866094ad-3c0f-4be7-b7de-134b775b803a"
      },
      "source": [
        "model=Sequential()\n",
        "model.add(Dense(5,input_shape=train_vector.shape[1:],activation=\"relu\"))\n",
        "#model.add(Dense(10,activation=\"relu\"))\n",
        "#model.add(Dense(5,activation=\"relu\"))\n",
        "model.add(Flatten())\n",
        "#model.add(Dropout(0.2))\n",
        "model.add(Dense(2,activation=\"softmax\"))\n",
        "opt=tf.keras.optimizers.Adam(lr=1e-3,decay=1e-5)\n",
        "\n",
        "model.compile(optimizer='adam', loss='binary_crossentropy', metrics=['accuracy'])\n",
        "print(model.summary())\n",
        "EPOCHS=24\n",
        "#st1,tsl1,st2,tsl2=train_test_split(train_vector,temp_y, test_size = 0.25)\n",
        "model.fit(train_vector, temp_y, epochs=EPOCHS,verbose=False)\n",
        "#H=model.fit(st1, st2, validation_data=(tsl1,tsl2 ), epochs=EPOCHS, batch_size=32)"
      ],
      "execution_count": 169,
      "outputs": [
        {
          "output_type": "stream",
          "text": [
            "Model: \"sequential_7\"\n",
            "_________________________________________________________________\n",
            "Layer (type)                 Output Shape              Param #   \n",
            "=================================================================\n",
            "dense_13 (Dense)             (None, 23, 5)             10        \n",
            "_________________________________________________________________\n",
            "flatten_7 (Flatten)          (None, 115)               0         \n",
            "_________________________________________________________________\n",
            "dense_14 (Dense)             (None, 2)                 232       \n",
            "=================================================================\n",
            "Total params: 242\n",
            "Trainable params: 242\n",
            "Non-trainable params: 0\n",
            "_________________________________________________________________\n",
            "None\n"
          ],
          "name": "stdout"
        },
        {
          "output_type": "execute_result",
          "data": {
            "text/plain": [
              "<keras.callbacks.callbacks.History at 0x7f899e523748>"
            ]
          },
          "metadata": {
            "tags": []
          },
          "execution_count": 169
        }
      ]
    },
    {
      "cell_type": "code",
      "metadata": {
        "id": "-VsGUjB01dp_",
        "colab_type": "code",
        "outputId": "c423db1e-362f-46bb-b48e-122009ca90c1",
        "colab": {
          "base_uri": "https://localhost:8080/",
          "height": 574
        }
      },
      "source": [
        "import matplotlib.pyplot as plt\n",
        "N = np.arange(0,24)\n",
        "plt.style.use(\"ggplot\")\n",
        "plt.figure(figsize=(16,9))\n",
        "plt.title(\"Training Loss and Accuracy (Dense NN)\")\n",
        "plt.plot(N, H.history[\"loss\"], label=\"train_loss\")\n",
        "plt.plot(N, H.history[\"val_loss\"], label=\"test_loss\")\n",
        "# plt.plot(N, H.history[\"accuracy\"], label=\"train_acc\")\n",
        "# plt.plot(N, H.history[\"val_accuracy\"], label=\"test_acc\")\n",
        "plt.xlabel(\"Epoch #\")\n",
        "plt.ylabel(\"Loss/Accuracy\")\n",
        "plt.legend(loc=\"best\")\n",
        "plt.show()"
      ],
      "execution_count": 170,
      "outputs": [
        {
          "output_type": "display_data",
          "data": {
            "image/png": "[encoded data removed]",
            "text/plain": [
              "<Figure size 1152x648 with 1 Axes>"
            ]
          },
          "metadata": {
            "tags": []
          }
        }
      ]
    },
    {
      "cell_type": "code",
      "metadata": {
        "id": "EC7NcMRC1df0",
        "colab_type": "code",
        "outputId": "16781ef6-1bab-4840-d7e4-d723160b9aa6",
        "colab": {
          "base_uri": "https://localhost:8080/",
          "height": 318
        }
      },
      "source": [
        "pred_labels=model.predict(test_vector)\n",
        "pred_labels_final=pred_labels.argmax(axis=1)\n",
        "pred_list=[]\n",
        "for i in pred_labels_final:\n",
        "  pred_list.append(i)\n",
        "#print(pred_list)\n",
        "acc=accuracy_score_calculation(d2_testy,pred_list)\n",
        "print(\"Accuracy for Multilayer perceptron\",acc)\n",
        "ploting=d2_confusion_matrix_creation(d2_testy,pred_list,\"Confusion matrix for Multilayer Perceptron\")\n",
        "ploting.show()"
      ],
      "execution_count": 171,
      "outputs": [
        {
          "output_type": "stream",
          "text": [
            "Accuracy for Multilayer perceptron 0.8709677419354839\n"
          ],
          "name": "stdout"
        },
        {
          "output_type": "display_data",
          "data": {
            "image/png": "[encoded data removed]",
            "text/plain": [
              "<Figure size 432x288 with 2 Axes>"
            ]
          },
          "metadata": {
            "tags": []
          }
        }
      ]
    },
    {
      "cell_type": "markdown",
      "metadata": {
        "id": "q44YU54A4um4",
        "colab_type": "text"
      },
      "source": [
        "**Making Majority voting decision: Ensemble model**"
      ]
    },
    {
      "cell_type": "code",
      "metadata": {
        "id": "Ct5NCL0A4znP",
        "colab_type": "code",
        "colab": {
          "base_uri": "https://localhost:8080/",
          "height": 315
        },
        "outputId": "824209f4-068e-4b4e-c2a3-30870d95d27e"
      },
      "source": [
        "#print(svm_predicted_labels)\n",
        "#print(knn_predicted_labels)\n",
        "#dense\n",
        "import statistics \n",
        "from statistics import mode\n",
        "major_pred_labels=[]\n",
        "for i in range(0,len(pred_list)):\n",
        "  li=[]\n",
        "  li.append(d2_svm_predicted_labels[i])\n",
        "  li.append(naive_predicted_labels[i])\n",
        "  li.append(pred_list[i])\n",
        "  \n",
        "  try:\n",
        "    major_pred_labels.append(mode(li))\n",
        "  except:\n",
        "    major_pred_labels.append(pred_list[i])\n",
        "#print(major_pred_labels)\n",
        "acc=accuracy_score_calculation(d2_ens_testy,major_pred_labels); \n",
        "print(\"Ensemble model Acuuracy \",acc)\n",
        "ploting=d2_confusion_matrixcreation(d2_ens_testy,major_pred_labels,\"Confusion matrix for Ensemble\")\n",
        "ploting\n"
      ],
      "execution_count": 178,
      "outputs": [
        {
          "output_type": "stream",
          "text": [
            "Ensemble model Acuuracy  0.9032258064516129\n"
          ],
          "name": "stdout"
        },
        {
          "output_type": "execute_result",
          "data": {
            "image/png": "[encoded data removed]",
            "text/plain": [
              "<PIL.PngImagePlugin.PngImageFile image mode=RGBA size=363x281 at 0x7F899E387550>"
            ]
          },
          "metadata": {
            "tags": []
          },
          "execution_count": 178
        }
      ]
    },
    {
      "cell_type": "code",
      "metadata": {
        "id": "A76VmUgwoI0g",
        "colab_type": "code",
        "colab": {}
      },
      "source": [
        ""
      ],
      "execution_count": 0,
      "outputs": []
    },
    {
      "cell_type": "markdown",
      "metadata": {
        "id": "2sbkc8L7LqO6",
        "colab_type": "text"
      },
      "source": [
        "**Approach 2: Veryfying on multiple datasets**      \n",
        "                                                                          "
      ]
    },
    {
      "cell_type": "code",
      "metadata": {
        "id": "NpLUZ0nLuafm",
        "colab_type": "code",
        "colab": {}
      },
      "source": [
        ""
      ],
      "execution_count": 0,
      "outputs": []
    },
    {
      "cell_type": "markdown",
      "metadata": {
        "id": "s1wBnBQ70v8u",
        "colab_type": "text"
      },
      "source": [
        "Dataset 1 is read"
      ]
    },
    {
      "cell_type": "code",
      "metadata": {
        "id": "o9Hzh22_LpsW",
        "colab_type": "code",
        "colab": {
          "base_uri": "https://localhost:8080/",
          "height": 266
        },
        "outputId": "6ec78fae-5e41-4b23-cdf0-a0e68d3199c0"
      },
      "source": [
        "train_df=pd.read_csv('dataset1.csv',index_col=0)\n",
        "#print ((df.columns))\n",
        "train_df.head()"
      ],
      "execution_count": 173,
      "outputs": [
        {
          "output_type": "execute_result",
          "data": {
            "text/html": [
              "<div>\n",
              "<style scoped>\n",
              "    .dataframe tbody tr th:only-of-type {\n",
              "        vertical-align: middle;\n",
              "    }\n",
              "\n",
              "    .dataframe tbody tr th {\n",
              "        vertical-align: top;\n",
              "    }\n",
              "\n",
              "    .dataframe thead th {\n",
              "        text-align: right;\n",
              "    }\n",
              "</style>\n",
              "<table border=\"1\" class=\"dataframe\">\n",
              "  <thead>\n",
              "    <tr style=\"text-align: right;\">\n",
              "      <th></th>\n",
              "      <th>Patient Id</th>\n",
              "      <th>Age</th>\n",
              "      <th>Gender</th>\n",
              "      <th>Air Pollution</th>\n",
              "      <th>Alcohol use</th>\n",
              "      <th>Dust Allergy</th>\n",
              "      <th>OccuPational Hazards</th>\n",
              "      <th>Genetic Risk</th>\n",
              "      <th>chronic Lung Disease</th>\n",
              "      <th>Balanced Diet</th>\n",
              "      <th>Obesity</th>\n",
              "      <th>Smoking</th>\n",
              "      <th>Passive Smoker</th>\n",
              "      <th>Chest Pain</th>\n",
              "      <th>Coughing of Blood</th>\n",
              "      <th>Fatigue</th>\n",
              "      <th>Weight Loss</th>\n",
              "      <th>Shortness of Breath</th>\n",
              "      <th>Wheezing</th>\n",
              "      <th>Swallowing Difficulty</th>\n",
              "      <th>Clubbing of Finger Nails</th>\n",
              "      <th>Frequent Cold</th>\n",
              "      <th>Dry Cough</th>\n",
              "      <th>Snoring</th>\n",
              "      <th>Level</th>\n",
              "    </tr>\n",
              "  </thead>\n",
              "  <tbody>\n",
              "    <tr>\n",
              "      <th>0</th>\n",
              "      <td>P1</td>\n",
              "      <td>33</td>\n",
              "      <td>1</td>\n",
              "      <td>2</td>\n",
              "      <td>1</td>\n",
              "      <td>2</td>\n",
              "      <td>4</td>\n",
              "      <td>3</td>\n",
              "      <td>1</td>\n",
              "      <td>2</td>\n",
              "      <td>4</td>\n",
              "      <td>1</td>\n",
              "      <td>2</td>\n",
              "      <td>1</td>\n",
              "      <td>4</td>\n",
              "      <td>1</td>\n",
              "      <td>4</td>\n",
              "      <td>1</td>\n",
              "      <td>1</td>\n",
              "      <td>1</td>\n",
              "      <td>1</td>\n",
              "      <td>2</td>\n",
              "      <td>1</td>\n",
              "      <td>4</td>\n",
              "      <td>Low</td>\n",
              "    </tr>\n",
              "    <tr>\n",
              "      <th>1</th>\n",
              "      <td>P10</td>\n",
              "      <td>17</td>\n",
              "      <td>1</td>\n",
              "      <td>3</td>\n",
              "      <td>1</td>\n",
              "      <td>2</td>\n",
              "      <td>3</td>\n",
              "      <td>4</td>\n",
              "      <td>1</td>\n",
              "      <td>2</td>\n",
              "      <td>2</td>\n",
              "      <td>1</td>\n",
              "      <td>4</td>\n",
              "      <td>1</td>\n",
              "      <td>3</td>\n",
              "      <td>1</td>\n",
              "      <td>3</td>\n",
              "      <td>2</td>\n",
              "      <td>2</td>\n",
              "      <td>2</td>\n",
              "      <td>2</td>\n",
              "      <td>1</td>\n",
              "      <td>2</td>\n",
              "      <td>2</td>\n",
              "      <td>Medium</td>\n",
              "    </tr>\n",
              "    <tr>\n",
              "      <th>2</th>\n",
              "      <td>P100</td>\n",
              "      <td>35</td>\n",
              "      <td>1</td>\n",
              "      <td>4</td>\n",
              "      <td>2</td>\n",
              "      <td>2</td>\n",
              "      <td>5</td>\n",
              "      <td>5</td>\n",
              "      <td>2</td>\n",
              "      <td>6</td>\n",
              "      <td>7</td>\n",
              "      <td>1</td>\n",
              "      <td>3</td>\n",
              "      <td>1</td>\n",
              "      <td>8</td>\n",
              "      <td>2</td>\n",
              "      <td>7</td>\n",
              "      <td>2</td>\n",
              "      <td>1</td>\n",
              "      <td>1</td>\n",
              "      <td>4</td>\n",
              "      <td>6</td>\n",
              "      <td>2</td>\n",
              "      <td>2</td>\n",
              "      <td>High</td>\n",
              "    </tr>\n",
              "    <tr>\n",
              "      <th>3</th>\n",
              "      <td>P1000</td>\n",
              "      <td>37</td>\n",
              "      <td>1</td>\n",
              "      <td>7</td>\n",
              "      <td>2</td>\n",
              "      <td>2</td>\n",
              "      <td>7</td>\n",
              "      <td>6</td>\n",
              "      <td>2</td>\n",
              "      <td>7</td>\n",
              "      <td>7</td>\n",
              "      <td>2</td>\n",
              "      <td>7</td>\n",
              "      <td>2</td>\n",
              "      <td>8</td>\n",
              "      <td>1</td>\n",
              "      <td>2</td>\n",
              "      <td>1</td>\n",
              "      <td>1</td>\n",
              "      <td>1</td>\n",
              "      <td>5</td>\n",
              "      <td>6</td>\n",
              "      <td>2</td>\n",
              "      <td>5</td>\n",
              "      <td>High</td>\n",
              "    </tr>\n",
              "    <tr>\n",
              "      <th>4</th>\n",
              "      <td>P101</td>\n",
              "      <td>46</td>\n",
              "      <td>1</td>\n",
              "      <td>6</td>\n",
              "      <td>2</td>\n",
              "      <td>2</td>\n",
              "      <td>7</td>\n",
              "      <td>7</td>\n",
              "      <td>2</td>\n",
              "      <td>7</td>\n",
              "      <td>7</td>\n",
              "      <td>2</td>\n",
              "      <td>7</td>\n",
              "      <td>2</td>\n",
              "      <td>9</td>\n",
              "      <td>1</td>\n",
              "      <td>2</td>\n",
              "      <td>1</td>\n",
              "      <td>1</td>\n",
              "      <td>1</td>\n",
              "      <td>2</td>\n",
              "      <td>4</td>\n",
              "      <td>1</td>\n",
              "      <td>3</td>\n",
              "      <td>High</td>\n",
              "    </tr>\n",
              "  </tbody>\n",
              "</table>\n",
              "</div>"
            ],
            "text/plain": [
              "  Patient Id  Age  Gender  ...  Dry Cough  Snoring   Level\n",
              "0         P1   33       1  ...          1        4     Low\n",
              "1        P10   17       1  ...          2        2  Medium\n",
              "2       P100   35       1  ...          2        2    High\n",
              "3      P1000   37       1  ...          2        5    High\n",
              "4       P101   46       1  ...          1        3    High\n",
              "\n",
              "[5 rows x 25 columns]"
            ]
          },
          "metadata": {
            "tags": []
          },
          "execution_count": 173
        }
      ]
    },
    {
      "cell_type": "markdown",
      "metadata": {
        "id": "YD5D5IZM0yws",
        "colab_type": "text"
      },
      "source": [
        "Dataset 2 is read"
      ]
    },
    {
      "cell_type": "code",
      "metadata": {
        "id": "XkPJ63LiXBy-",
        "colab_type": "code",
        "colab": {
          "base_uri": "https://localhost:8080/",
          "height": 266
        },
        "outputId": "8b3fa0cd-110f-4e92-cd3e-f42346beffef"
      },
      "source": [
        "test_df=pd.read_csv('dataset2.csv')\n",
        "#print ((df.columns))\n",
        "test_df.head()"
      ],
      "execution_count": 174,
      "outputs": [
        {
          "output_type": "execute_result",
          "data": {
            "text/html": [
              "<div>\n",
              "<style scoped>\n",
              "    .dataframe tbody tr th:only-of-type {\n",
              "        vertical-align: middle;\n",
              "    }\n",
              "\n",
              "    .dataframe tbody tr th {\n",
              "        vertical-align: top;\n",
              "    }\n",
              "\n",
              "    .dataframe thead th {\n",
              "        text-align: right;\n",
              "    }\n",
              "</style>\n",
              "<table border=\"1\" class=\"dataframe\">\n",
              "  <thead>\n",
              "    <tr style=\"text-align: right;\">\n",
              "      <th></th>\n",
              "      <th>Age</th>\n",
              "      <th>Gender</th>\n",
              "      <th>Air Pollution</th>\n",
              "      <th>Alcohol use</th>\n",
              "      <th>Dust Allergy</th>\n",
              "      <th>OccuPational Hazards</th>\n",
              "      <th>Genetic Risk</th>\n",
              "      <th>chronic Lung Disease</th>\n",
              "      <th>Balanced Diet</th>\n",
              "      <th>Obesity</th>\n",
              "      <th>Smoking</th>\n",
              "      <th>Passive Smoker</th>\n",
              "      <th>Chest Pain</th>\n",
              "      <th>Coughing of Blood</th>\n",
              "      <th>Fatigue</th>\n",
              "      <th>Weight Loss</th>\n",
              "      <th>Shortness of Breath</th>\n",
              "      <th>Wheezing</th>\n",
              "      <th>Swallowing Difficulty</th>\n",
              "      <th>Clubbing of Finger Nails</th>\n",
              "      <th>Frequent Cold</th>\n",
              "      <th>Dry Cough</th>\n",
              "      <th>Snoring</th>\n",
              "      <th>Level</th>\n",
              "    </tr>\n",
              "  </thead>\n",
              "  <tbody>\n",
              "    <tr>\n",
              "      <th>0</th>\n",
              "      <td>69</td>\n",
              "      <td>1</td>\n",
              "      <td>3.84</td>\n",
              "      <td>2</td>\n",
              "      <td>1</td>\n",
              "      <td>4.84</td>\n",
              "      <td>4.58</td>\n",
              "      <td>1</td>\n",
              "      <td>4.491</td>\n",
              "      <td>4.465</td>\n",
              "      <td>1</td>\n",
              "      <td>4.195</td>\n",
              "      <td>2</td>\n",
              "      <td>4.859</td>\n",
              "      <td>2</td>\n",
              "      <td>3.855</td>\n",
              "      <td>2</td>\n",
              "      <td>2</td>\n",
              "      <td>2</td>\n",
              "      <td>3.923</td>\n",
              "      <td>3.536</td>\n",
              "      <td>2</td>\n",
              "      <td>2.926</td>\n",
              "      <td>YES</td>\n",
              "    </tr>\n",
              "    <tr>\n",
              "      <th>1</th>\n",
              "      <td>74</td>\n",
              "      <td>1</td>\n",
              "      <td>3.84</td>\n",
              "      <td>1</td>\n",
              "      <td>2</td>\n",
              "      <td>4.84</td>\n",
              "      <td>4.58</td>\n",
              "      <td>2</td>\n",
              "      <td>4.491</td>\n",
              "      <td>4.465</td>\n",
              "      <td>2</td>\n",
              "      <td>4.195</td>\n",
              "      <td>2</td>\n",
              "      <td>4.859</td>\n",
              "      <td>2</td>\n",
              "      <td>3.855</td>\n",
              "      <td>2</td>\n",
              "      <td>1</td>\n",
              "      <td>2</td>\n",
              "      <td>3.923</td>\n",
              "      <td>3.536</td>\n",
              "      <td>1</td>\n",
              "      <td>2.926</td>\n",
              "      <td>YES</td>\n",
              "    </tr>\n",
              "    <tr>\n",
              "      <th>2</th>\n",
              "      <td>59</td>\n",
              "      <td>2</td>\n",
              "      <td>3.84</td>\n",
              "      <td>1</td>\n",
              "      <td>1</td>\n",
              "      <td>4.84</td>\n",
              "      <td>4.58</td>\n",
              "      <td>1</td>\n",
              "      <td>4.491</td>\n",
              "      <td>4.465</td>\n",
              "      <td>1</td>\n",
              "      <td>4.195</td>\n",
              "      <td>2</td>\n",
              "      <td>4.859</td>\n",
              "      <td>2</td>\n",
              "      <td>3.855</td>\n",
              "      <td>2</td>\n",
              "      <td>2</td>\n",
              "      <td>1</td>\n",
              "      <td>3.923</td>\n",
              "      <td>3.536</td>\n",
              "      <td>2</td>\n",
              "      <td>2.926</td>\n",
              "      <td>NO</td>\n",
              "    </tr>\n",
              "    <tr>\n",
              "      <th>3</th>\n",
              "      <td>63</td>\n",
              "      <td>1</td>\n",
              "      <td>3.84</td>\n",
              "      <td>2</td>\n",
              "      <td>1</td>\n",
              "      <td>4.84</td>\n",
              "      <td>4.58</td>\n",
              "      <td>1</td>\n",
              "      <td>4.491</td>\n",
              "      <td>4.465</td>\n",
              "      <td>2</td>\n",
              "      <td>4.195</td>\n",
              "      <td>2</td>\n",
              "      <td>4.859</td>\n",
              "      <td>1</td>\n",
              "      <td>3.855</td>\n",
              "      <td>1</td>\n",
              "      <td>1</td>\n",
              "      <td>2</td>\n",
              "      <td>3.923</td>\n",
              "      <td>3.536</td>\n",
              "      <td>1</td>\n",
              "      <td>2.926</td>\n",
              "      <td>NO</td>\n",
              "    </tr>\n",
              "    <tr>\n",
              "      <th>4</th>\n",
              "      <td>63</td>\n",
              "      <td>2</td>\n",
              "      <td>3.84</td>\n",
              "      <td>1</td>\n",
              "      <td>1</td>\n",
              "      <td>4.84</td>\n",
              "      <td>4.58</td>\n",
              "      <td>1</td>\n",
              "      <td>4.491</td>\n",
              "      <td>4.465</td>\n",
              "      <td>1</td>\n",
              "      <td>4.195</td>\n",
              "      <td>1</td>\n",
              "      <td>4.859</td>\n",
              "      <td>1</td>\n",
              "      <td>3.855</td>\n",
              "      <td>2</td>\n",
              "      <td>2</td>\n",
              "      <td>1</td>\n",
              "      <td>3.923</td>\n",
              "      <td>3.536</td>\n",
              "      <td>2</td>\n",
              "      <td>2.926</td>\n",
              "      <td>NO</td>\n",
              "    </tr>\n",
              "  </tbody>\n",
              "</table>\n",
              "</div>"
            ],
            "text/plain": [
              "   Age  Gender  Air Pollution  ...  Dry Cough  Snoring  Level\n",
              "0   69       1           3.84  ...          2    2.926    YES\n",
              "1   74       1           3.84  ...          1    2.926    YES\n",
              "2   59       2           3.84  ...          2    2.926     NO\n",
              "3   63       1           3.84  ...          1    2.926     NO\n",
              "4   63       2           3.84  ...          2    2.926     NO\n",
              "\n",
              "[5 rows x 24 columns]"
            ]
          },
          "metadata": {
            "tags": []
          },
          "execution_count": 174
        }
      ]
    },
    {
      "cell_type": "markdown",
      "metadata": {
        "id": "2z2HDn2zCjee",
        "colab_type": "text"
      },
      "source": [
        "RUNNING SVM ON MIXED DATASET"
      ]
    },
    {
      "cell_type": "code",
      "metadata": {
        "id": "qclwAiwvuHPF",
        "colab_type": "code",
        "colab": {
          "base_uri": "https://localhost:8080/",
          "height": 50
        },
        "outputId": "19407620-b300-4092-aa2a-eba1eb07cb99"
      },
      "source": [
        "h=train_df.loc[:, 'Age':'Snoring']\n",
        "f=train_df[\"Level\"] \n",
        "ll=list(f)\n",
        "#print(len(ll))\n",
        "high=ll.count(\"High\")\n",
        "medium=ll.count(\"Medium\")\n",
        "low=ll.count(\"Low\")\n",
        "#print(high,medium,low)\n",
        "Train_feature=np.array(h)\n",
        "\n",
        "levels=[]\n",
        "for value in ll:\n",
        "  if value==\"Low\":\n",
        "    levels.append(1)\n",
        "  elif value==\"Medium\":\n",
        "    levels.append(2)\n",
        "  elif value==\"High\":\n",
        "    levels.append(2)\n",
        "#print(levels)\n",
        "\n",
        "tt= sklea.preprocessing.LabelEncoder()\n",
        "Train_labels=tt.fit_transform(levels)\n",
        "######################################################################################\n",
        "Test_feature=np.array(test_df.loc[:,'Age':'Snoring'])\n",
        "Test_labels=list(test_df['Level'])\n",
        "lab=[]\n",
        "for value in Test_labels:\n",
        "    if value=='YES':\n",
        "        lab.append(2)\n",
        "    elif value=='NO':\n",
        "        lab.append(1)\n",
        "Test_labels=tt.transform(lab)\n",
        "# import random\n",
        "# random.shuffle(Trainfeature,Trainlabels)\n",
        "SVM_classifier=SVC(kernel='rbf')\n",
        "SVM_classifier.fit(Train_feature,Train_labels)\n",
        "predicted_labels=SVM_classifier.predict(Test_feature)\n",
        "#print (len(Test_labels),len(predicted_labels))\n",
        "\n",
        "from sklearn.metrics import accuracy_score\n",
        "def accuracy_score_calculation(y_true,y_pred):\n",
        "    return accuracy_score(y_true, y_pred)\n",
        "\n",
        "v=accuracy_score_calculation(Test_labels,predicted_labels)\n",
        "print(\"FOR SVM, ACCURACY ON MIXED DATASET \",v,\"\\n\")\n",
        "##################################################################################\n",
        "score=cross_val_score(SVM_classifier,Test_feature,Test_labels, cv=5)\n",
        "#print (\"SVM Cross val score of training with dataset 2\")\n",
        "#print (\"Score\",np.round(np.mean(score), 3))\n",
        "#print (\"STD\", np.round(np.std(score), 3))\n",
        "#Train_feature, Test_feature, Train_labels, Test_labels = train_test_split(Test_feature, Test_labels, test_size = 0.3, random_state = 42)\n",
        "# print (\"\\nClearly visible that score obtained by training and testing on dataset2 is 0.874\\n\\\n",
        "# Also score obtained by training on dataset1 and testing on dataset2 is also 0.8737 which means that our model is\\n\\\n",
        "# able to predict test data from a different distribution (different dataset) which emplies that 'OUR MODEL IS \\\n",
        "# GENRALIZED'\")"
      ],
      "execution_count": 175,
      "outputs": [
        {
          "output_type": "stream",
          "text": [
            "FOR SVM, ACCURACY ON MIXED DATASET  0.8737864077669902 \n",
            "\n"
          ],
          "name": "stdout"
        }
      ]
    },
    {
      "cell_type": "markdown",
      "metadata": {
        "id": "JBpI3kkIkhNu",
        "colab_type": "text"
      },
      "source": [
        "RUNNING Random Forest ON MIXED DATASET"
      ]
    },
    {
      "cell_type": "code",
      "metadata": {
        "id": "Sm0hvtnBMUDR",
        "colab_type": "code",
        "outputId": "53ae5827-dc05-408e-ab42-e1a1ecd93dbf",
        "colab": {
          "base_uri": "https://localhost:8080/",
          "height": 101
        }
      },
      "source": [
        "from sklearn.ensemble import RandomForestClassifier\n",
        "RF=RandomForestClassifier()\n",
        "RF.fit(Train_feature,Train_labels)\n",
        "import joblib\n",
        "NRF=joblib.load('rf_model.sav')\n",
        "predicted_labels=NRF.predict(Test_feature)\n",
        "from sklearn.metrics import accuracy_score\n",
        "def accuracy_score_calculation(y_true,y_pred):\n",
        "    return accuracy_score(y_true, y_pred)\n",
        "v=accuracy_score_calculation(Test_labels,predicted_labels)\n",
        "print(\"FOR Random Forrest, Training on training split and Testing on testing split of merged dataset \",v,\"\\n\")\n",
        "#########################################\n",
        "score=cross_val_score(RF,Test_feature,Test_labels, cv=5)\n",
        "score.sort()\n",
        "print (\"Random Forest Cross val score on testing split of merged dataset\")\n",
        "print (\"Score\",np.round(np.mean(score), 3))\n",
        "print (\"STD\", np.round(np.std(score), 3))\n"
      ],
      "execution_count": 184,
      "outputs": [
        {
          "output_type": "stream",
          "text": [
            "FOR Random Forrest, Training on training split and Testing on testing split of merged dataset  0.8964401294498382 \n",
            "\n",
            "Random Forest Cross val score on testing split of merged dataset\n",
            "Score 0.903\n",
            "STD 0.035\n"
          ],
          "name": "stdout"
        }
      ]
    }
  ]
}